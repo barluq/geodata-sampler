{
 "cells": [
  {
   "cell_type": "markdown",
   "id": "023c3aac",
   "metadata": {},
   "source": [
    "# Simple Geojson Sampler\n",
    "Summary: Generates simple geojson into the `/data/generated`.\n",
    "\n",
    "The content of those geojsons are mainly attribute data and timeseries data. "
   ]
  },
  {
   "cell_type": "markdown",
   "id": "f287f311",
   "metadata": {},
   "source": [
    "First we prepare required imports for the whole scenario:"
   ]
  },
  {
   "cell_type": "code",
   "execution_count": 1,
   "id": "80f41987",
   "metadata": {},
   "outputs": [],
   "source": [
    "import sys\n",
    "from pathlib import Path\n",
    "\n",
    "# Add the parent directory to sys.path so 'core' can be imported\n",
    "sys.path.append(str(Path.cwd().parent))\n"
   ]
  },
  {
   "cell_type": "markdown",
   "id": "48298a65",
   "metadata": {},
   "source": [
    "Now we need to add a map of required attributes. General attributes are just once per feature, timeseries per each year. \n",
    "Also there is need to set up timerange for timeseries per year."
   ]
  },
  {
   "cell_type": "code",
   "execution_count": 2,
   "id": "6eea97a8",
   "metadata": {},
   "outputs": [],
   "source": [
    "from core.helpers_datetime import DatePeriod\n",
    "from typing import Literal \n",
    "\n",
    "# Boundaries for the time series\n",
    "timeseries_per_year_range = (\"2000-01-01\", \"2025-01-01\")\n",
    "\n",
    "# Period step for the time series attribute records\n",
    "timeseries_step = DatePeriod.MONTH\n",
    "\n",
    "# Define the attributes for the GeoJSON features\n",
    "# These attributes has no relation to the timeseries values\n",
    "random_general_spatial_attributes: dict[str, Literal[\"string\", \"integer\", \"float\"]] = {\n",
    "    \"general_average\": \"float\",\n",
    "    \"general_median\": \"integer\",\n",
    "}\n",
    "\n",
    "# These attributes are used to generate the timeseries data\n",
    "# Each attribute will exist in versioon per year\n",
    "random_timeseries_spatial_attributes: dict[str, Literal[\"string\", \"integer\", \"float\"]] = {\n",
    "    \"population_density\": \"integer\",\n",
    "    \"land_use\": \"string\",\n",
    "    \"building_height\": \"float\"\n",
    "}\n"
   ]
  },
  {
   "cell_type": "markdown",
   "id": "4a84cbe4",
   "metadata": {},
   "source": [
    "Now is the time to prepare a geojson. We use tool from this project:\n",
    "- `geojson_features_generator` generates features with or without timeseries dimension.\n",
    "- `geojson_feature_collection_body` wraps Geojson Features into the valid Geojson Feature Collection\n",
    "\n",
    "Geometries will be random points generated inside the code"
   ]
  },
  {
   "cell_type": "code",
   "execution_count": 3,
   "id": "cc2f5d4e",
   "metadata": {},
   "outputs": [],
   "source": [
    "from core.geojson_generate import geojson_feature_collection_body, geojson_features_generator\n",
    "\n",
    "# Create a simple GeoJSON FeatureCollection with one Point feature\n",
    "\n",
    "# generator for GeoJSON features with timeseries data\n",
    "timeseries_generator = geojson_features_generator(\n",
    "    number_of_features=10, \n",
    "    attributes=random_timeseries_spatial_attributes,\n",
    "    timeseries_attributes=random_timeseries_spatial_attributes,\n",
    "    time_series_range=timeseries_per_year_range,\n",
    "    timeseries_step=timeseries_step\n",
    ")\n",
    "\n",
    "\n",
    "# # iterate over the generators to create lists of features\n",
    "# geojson_general_features: list = [feature for feature in general_generator]\n",
    "geojson_timeseries_features: list = [feature for feature in timeseries_generator]\n",
    "\n",
    "# Create the GeoJSON FeatureCollection body as final output\n",
    "geojson_data = geojson_feature_collection_body(geojson_timeseries_features)\n"
   ]
  },
  {
   "cell_type": "markdown",
   "id": "5422d5a8",
   "metadata": {},
   "source": [
    "When we have Geojson data, we need to store output into the filesystem. This repository stores data into `/data/generated/` folder."
   ]
  },
  {
   "cell_type": "code",
   "execution_count": 4,
   "id": "800e1813",
   "metadata": {},
   "outputs": [],
   "source": [
    "from core.io_store_data import write_geojson_to_generated_folder\n",
    "\n",
    "# Store the generated GeoJSON data to the specified folder\n",
    "write_geojson_to_generated_folder(\n",
    "    geojson_data=geojson_data,\n",
    "    folder_path=Path('../data/generated'),\n",
    "    filename=\"timeseries_data.geojson\"\n",
    ")"
   ]
  },
  {
   "cell_type": "markdown",
   "id": "5a7b1eeb",
   "metadata": {},
   "source": [
    "And we are done. The geojson with timeseries should be present at `/data/generated/timeseries_data.geojson`"
   ]
  }
 ],
 "metadata": {
  "kernelspec": {
   "display_name": "Python (geodata-sampler)",
   "language": "python",
   "name": "geodata-sampler-env"
  },
  "language_info": {
   "codemirror_mode": {
    "name": "ipython",
    "version": 3
   },
   "file_extension": ".py",
   "mimetype": "text/x-python",
   "name": "python",
   "nbconvert_exporter": "python",
   "pygments_lexer": "ipython3",
   "version": "3.13.5"
  }
 },
 "nbformat": 4,
 "nbformat_minor": 5
}
