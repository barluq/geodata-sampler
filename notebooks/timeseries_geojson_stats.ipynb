{
 "cells": [
  {
   "cell_type": "markdown",
   "id": "48a0dcac",
   "metadata": {},
   "source": [
    "This notebook should check stats about generated geojson data entity from notebook `timeseries_geojson`. \n",
    "\n",
    "> **⚠️ Important:**  \n",
    "> Before you start running this notebook, you need to prepare data using the `timeseries_geojson` notebook mentioned earlier."
   ]
  },
  {
   "cell_type": "markdown",
   "id": "761cc825",
   "metadata": {},
   "source": [
    "First we need to prepare required imports."
   ]
  },
  {
   "cell_type": "code",
   "execution_count": 1,
   "id": "bdd1690a",
   "metadata": {},
   "outputs": [],
   "source": [
    "import sys\n",
    "from pathlib import Path\n",
    "\n",
    "# Add the parent directory to sys.path so 'core' can be imported\n",
    "sys.path.append(str(Path.cwd().parent))\n"
   ]
  },
  {
   "cell_type": "markdown",
   "id": "4c99c037",
   "metadata": {},
   "source": [
    "Now try to read Geojson data from expected destination."
   ]
  },
  {
   "cell_type": "code",
   "execution_count": 2,
   "id": "9a584cc3",
   "metadata": {},
   "outputs": [],
   "source": [
    "from core.shared.io_store_data import read_geojson_from_file\n",
    "\n",
    "\n",
    "geojson_data_path = Path('../data/generated/timeseries_data.geojson')\n",
    "if not geojson_data_path.exists():\n",
    "    raise FileNotFoundError(f\"GeoJSON data file not found at {geojson_data_path}\")\n",
    "\n",
    "geojson_data = read_geojson_from_file(geojson_data_path)"
   ]
  },
  {
   "cell_type": "markdown",
   "id": "06475bf1",
   "metadata": {},
   "source": [
    "Now when we have data, we can build general vector entity with features and properties."
   ]
  },
  {
   "cell_type": "code",
   "execution_count": 3,
   "id": "89ec0927",
   "metadata": {},
   "outputs": [],
   "source": [
    "from core.shared.models_vectors import VectorEntity\n",
    "from core.shared.geojson_read import parse_geojson\n",
    "\n",
    "vector: VectorEntity = parse_geojson(geojson_data)"
   ]
  },
  {
   "cell_type": "markdown",
   "id": "d530c44e",
   "metadata": {},
   "source": [
    "From general vector entity is possible to build stats object."
   ]
  },
  {
   "cell_type": "code",
   "execution_count": 4,
   "id": "ce17cfb6",
   "metadata": {},
   "outputs": [
    {
     "name": "stdout",
     "output_type": "stream",
     "text": [
      "VectorEntityStats(features_count=10, properties_per_feature_count=5201)\n"
     ]
    }
   ],
   "source": [
    "from core.shared.stats_vectors import VectorEntityStats\n",
    "\n",
    "stats = VectorEntityStats.from_vector_entity(vector)\n",
    "stats.print_stats_to_console()"
   ]
  }
 ],
 "metadata": {
  "kernelspec": {
   "display_name": "geodata-sampler-IrYZ6o56",
   "language": "python",
   "name": "python3"
  },
  "language_info": {
   "codemirror_mode": {
    "name": "ipython",
    "version": 3
   },
   "file_extension": ".py",
   "mimetype": "text/x-python",
   "name": "python",
   "nbconvert_exporter": "python",
   "pygments_lexer": "ipython3",
   "version": "3.13.5"
  }
 },
 "nbformat": 4,
 "nbformat_minor": 5
}
